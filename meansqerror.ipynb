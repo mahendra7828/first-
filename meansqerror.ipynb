{
  "metadata": {
    "kernelspec": {
      "name": "python",
      "display_name": "Python (Pyodide)",
      "language": "python"
    },
    "language_info": {
      "codemirror_mode": {
        "name": "python",
        "version": 3
      },
      "file_extension": ".py",
      "mimetype": "text/x-python",
      "name": "python",
      "nbconvert_exporter": "python",
      "pygments_lexer": "ipython3",
      "version": "3.8"
    }
  },
  "nbformat_minor": 4,
  "nbformat": 4,
  "cells": [
    {
      "cell_type": "code",
      "source": "import pandas as pd  \nimport numpy as np  \nimport matplotlib.pyplot as plt  \nfrom sklearn.model_selection import train_test_split \nfrom sklearn.linear_model import LinearRegression\nfrom sklearn import metrics\ndataset=pd.read_csv(\"Immunotherapy.csv\")\ndataset.shape\ndataset.isnull().any()\ndataset = dataset.fillna(method='ffill')\nX=dataset.iloc[:,0:7]\ny=dataset.iloc[:,-1]\n#X = dataset[['fixed acidity', 'volatile acidity', 'citric acid', 'residual sugar', 'chlorides', 'free sulfur dioxide', 'total sulfur dioxide', 'density', 'pH', 'sulphates','alcohol']].values\n#y = dataset['quality'].values\n\n#plt.figure(figsize=(15,10))\n#plt.tight_layout()\n#seabornInstance.distplot(dataset['quality'])_\nX_train, X_test, y_train, y_test = train_test_split(X, y, test_size=0.1, random_state=0)\nregressor = LinearRegression()  \nregressor.fit(X_train, y_train)\nprint(regressor.coef_)\ny_pred = regressor.predict(X_test)\ndf = pd.DataFrame({'Actual': y_test, 'Predicted': y_pred})\ndf1 = df.head(25)\nprint('Mean Squared Error:', metrics.mean_squared_error(y_test, y_pred))",
      "metadata": {
        "trusted": true
      },
      "outputs": [
        {
          "name": "stdout",
          "text": "[ 1.14454953e-02 -2.63803677e-03 -5.18268728e-02 -3.03254546e-03\n -3.88163575e-03  1.73843446e-05 -2.79464048e-03]\nMean Squared Error: 0.18002699799890787\n",
          "output_type": "stream"
        }
      ],
      "execution_count": 4
    },
    {
      "cell_type": "code",
      "source": "# dta analyse bye lasso\n\n\nimport pandas as pd  \nimport numpy as np  \nimport matplotlib.pyplot as plt  \n\nfrom sklearn.model_selection import train_test_split \nfrom sklearn.linear_model import LinearRegression\nfrom sklearn import linear_model\nfrom sklearn import metrics\ndataset=pd.read_csv(\"Immunotherapy.csv\")\n\n\nX=dataset.iloc[:,0:7]\ny=dataset.iloc[:,-1]\n#X = dataset[['fixed acidity', 'volatile acidity', 'citric acid', 'residual sugar', 'chlorides', 'free sulfur dioxide', 'total sulfur dioxide', 'density', 'pH', 'sulphates','alcohol']].values\n#y = dataset['quality'].values\n\n\n\nX_train, X_test, y_train, y_test = train_test_split(X, y, test_size=0.2, random_state=0)\nregressor = linear_model.Lasso(alpha=0.1)\nregressor.fit(X_train, y_train)\n\nprint(regressor.coef_)\n\n\n\ny_pred = regressor.predict(X_test)\ndf = pd.DataFrame({'Actual': y_test, 'Predicted': y_pred})\ndf1 = df.head(25)\n\n \nprint('Mean Squared Error:', metrics.mean_squared_error(y_test, y_pred))",
      "metadata": {
        "trusted": true
      },
      "outputs": [
        {
          "name": "stdout",
          "text": "[-0.         -0.00162579 -0.0421833  -0.         -0.          0.00010615\n -0.00276455]\nMean Squared Error: 0.11201690138204778\n",
          "output_type": "stream"
        }
      ],
      "execution_count": 5
    },
    {
      "cell_type": "code",
      "source": "",
      "metadata": {
        "trusted": true
      },
      "outputs": [],
      "execution_count": null
    },
    {
      "cell_type": "code",
      "source": "",
      "metadata": {
        "trusted": true
      },
      "outputs": [],
      "execution_count": null
    },
    {
      "cell_type": "code",
      "source": "",
      "metadata": {
        "trusted": true
      },
      "outputs": [],
      "execution_count": null
    }
  ]
}